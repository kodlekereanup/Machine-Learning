{
  "nbformat": 4,
  "nbformat_minor": 0,
  "metadata": {
    "colab": {
      "name": "cifar10.ipynb",
      "version": "0.3.2",
      "provenance": [],
      "collapsed_sections": [],
      "include_colab_link": true
    },
    "kernelspec": {
      "name": "python3",
      "display_name": "Python 3"
    },
    "accelerator": "GPU"
  },
  "cells": [
    {
      "cell_type": "markdown",
      "metadata": {
        "id": "view-in-github",
        "colab_type": "text"
      },
      "source": [
        "<a href=\"https://colab.research.google.com/github/trail99/Machine-Learning/blob/master/cifar10.ipynb\" target=\"_parent\"><img src=\"https://colab.research.google.com/assets/colab-badge.svg\" alt=\"Open In Colab\"/></a>"
      ]
    },
    {
      "cell_type": "code",
      "metadata": {
        "id": "DtBhcXag8EDv",
        "colab_type": "code",
        "colab": {
          "base_uri": "https://localhost:8080/",
          "height": 170
        },
        "outputId": "5c1a8170-b632-48bd-ae3a-82bdd1c99268"
      },
      "source": [
        "import tensorflow as tf \n",
        "from tensorflow.keras.models import Sequential\n",
        "from tensorflow.keras.layers import Dense, Flatten\n",
        "# import matplotlib.pyplot as plt \n",
        "import numpy as np \n",
        "from tensorflow.keras.datasets import cifar10\n",
        "\n",
        "\n",
        "# Download the dataset\n",
        "(xTrain, yTrain), (xTest, yTest) = cifar10.load_data()\n",
        "\n",
        "# def grayscale(data):\n",
        "# \t# Convert the image into single channel image\n",
        "# \tr,g,b = np.asarray(.3, dtype='float32'), np.asarray(.59, dtype='float32'), np.asarray(.11, dtype='float32')\n",
        "# \trst = r * data[:, :, :, 0] + g * data[:, :, :, 1] + b * data[:, :, :, 2]\n",
        "# \trst = np.expand_dims(rst,axis=3)\n",
        "# \treturn rst\n",
        "\n",
        "\n",
        "# Normalize the training data\n",
        "\n",
        "xTrain = tf.keras.utils.normalize(xTrain, axis=1)\n",
        "\n",
        "xTest = tf.keras.utils.normalize(xTest, axis=1)\n",
        "\n",
        "\n",
        "# Create a model object using Sequential Model from Keras\n",
        "model = Sequential()\n",
        "\n",
        "# xTrain = grayscale(xTrain)\n",
        "# xTest = grayscale(xTest)\n",
        "\n",
        "#Adding the input layer\n",
        "model.add(Flatten(input_shape=(32,32,3)))\n",
        "\n",
        "#Adding one of two Hidden(Dense) layer\n",
        "model.add(Dense(100,activation='relu'))\n",
        "\n",
        "model.add(Dense(100, activation='relu'))\n",
        "\n",
        "# The output layer\n",
        "model.add(Dense(10, activation='softmax'))\n",
        "\n",
        "\n",
        "model.compile(optimizer='adam', loss='sparse_categorical_crossentropy', metrics=['accuracy'])\n",
        "\n",
        "model.fit(xTrain, yTrain, epochs=3)\n",
        "\n",
        "\n",
        "valLoss, valAcc = model.evaluate(xTest, yTest)\n",
        "print(\"validation loss: {} validation accuracy {}\".format(valLoss, valAcc))\n",
        "\n",
        "model.save('cifart.model')\n",
        "print('Model Saved')\n"
      ],
      "execution_count": 16,
      "outputs": [
        {
          "output_type": "stream",
          "text": [
            "Epoch 1/3\n",
            "50000/50000 [==============================] - 6s 113us/sample - loss: 2.0316 - acc: 0.2615\n",
            "Epoch 2/3\n",
            "50000/50000 [==============================] - 6s 113us/sample - loss: 1.8709 - acc: 0.3313\n",
            "Epoch 3/3\n",
            "50000/50000 [==============================] - 5s 110us/sample - loss: 1.7953 - acc: 0.3582\n",
            "10000/10000 [==============================] - 1s 95us/sample - loss: 1.7801 - acc: 0.3746\n",
            "validation loss: 1.7800681980133057 validation accuracy 0.37459999322891235\n",
            "Model Saved\n"
          ],
          "name": "stdout"
        }
      ]
    },
    {
      "cell_type": "code",
      "metadata": {
        "id": "T49IK0F78JMN",
        "colab_type": "code",
        "colab": {
          "base_uri": "https://localhost:8080/",
          "height": 51
        },
        "outputId": "17c00bc1-511d-4ce3-d71a-88fa3f58c48a"
      },
      "source": [
        "print(xTest[0].shape)\n",
        "print(xTrain[0].shape)"
      ],
      "execution_count": 5,
      "outputs": [
        {
          "output_type": "stream",
          "text": [
            "(32, 32, 3)\n",
            "(32, 32, 3)\n"
          ],
          "name": "stdout"
        }
      ]
    },
    {
      "cell_type": "code",
      "metadata": {
        "id": "owT1wH2g8dsK",
        "colab_type": "code",
        "colab": {
          "base_uri": "https://localhost:8080/",
          "height": 68
        },
        "outputId": "5a24368d-2419-4f41-ef4f-4f4d3dcad9fc"
      },
      "source": [
        "from tensorflow.keras.models import load_model\n",
        "import matplotlib.pyplot as plt\n",
        "\n",
        "xTest = tf.keras.utils.normalize(xTest, axis=1)\n",
        "\n",
        "\n",
        "model = load_model('cifart.model')\n",
        "\n",
        "# Use this model to predict the output\n",
        "\n",
        "predictions = model.predict([xTest])\n",
        "\n",
        "print(predictions[0])\n",
        "print(\"Predicted value is:\", np.argmax(predictions[0]))\n",
        "\n"
      ],
      "execution_count": 17,
      "outputs": [
        {
          "output_type": "stream",
          "text": [
            "[0.0137968  0.02803226 0.22125797 0.18926978 0.0775543  0.17064896\n",
            " 0.28011927 0.00775744 0.00658038 0.00498284]\n",
            "Predicted value is: 6\n"
          ],
          "name": "stdout"
        }
      ]
    },
    {
      "cell_type": "code",
      "metadata": {
        "id": "2FTyuyc-9WWd",
        "colab_type": "code",
        "colab": {
          "base_uri": "https://localhost:8080/",
          "height": 34
        },
        "outputId": "9282fad4-83bd-45f3-83aa-798b9f850b0c"
      },
      "source": [
        "print(predictions[0][1])"
      ],
      "execution_count": 12,
      "outputs": [
        {
          "output_type": "stream",
          "text": [
            "0.07748452\n"
          ],
          "name": "stdout"
        }
      ]
    },
    {
      "cell_type": "code",
      "metadata": {
        "id": "6mu0mHwa9XEF",
        "colab_type": "code",
        "colab": {
          "base_uri": "https://localhost:8080/",
          "height": 269
        },
        "outputId": "5566b2d7-9400-4ab3-fe85-235f2fdbaf00"
      },
      "source": [
        "plt.imshow(xTest[0])\n",
        "plt.show()"
      ],
      "execution_count": 18,
      "outputs": [
        {
          "output_type": "display_data",
          "data": {
            "image/png": "[encoded data removed]",
            "text/plain": [
              "<Figure size 432x288 with 1 Axes>"
            ]
          },
          "metadata": {
            "tags": []
          }
        }
      ]
    },
    {
      "cell_type": "code",
      "metadata": {
        "id": "5AThHw5X9c4X",
        "colab_type": "code",
        "colab": {}
      },
      "source": [
        ""
      ],
      "execution_count": 0,
      "outputs": []
    }
  ]
}